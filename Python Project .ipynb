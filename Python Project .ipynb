{
 "cells": [
  {
   "cell_type": "markdown",
   "metadata": {},
   "source": [
    "<h1>User Activity Tracker Project </h1>"
   ]
  },
  {
   "cell_type": "markdown",
   "metadata": {},
   "source": [
    "# User Activity Tracker Project\n",
    "\n",
    "This project is designed to track user activity on a computer or device. It analyzes login and logout events to keep a record of which users are currently logged in to the system. The project uses Python to process event data and generates a report that displays the current users for each device.\n",
    "\n",
    "## Project Objectives\n",
    "\n",
    "- Track user logins and logouts.\n",
    "- Maintain a list of currently logged-in users for each device.\n",
    "- Generate a report with user activity information.\n",
    "\n",
    "### Technologies Used\n",
    "\n",
    "- Python programming language\n",
    "- Jupyter Notebook\n"
   ]
  },
  {
   "cell_type": "code",
   "execution_count": 2,
   "metadata": {},
   "outputs": [
    {
     "name": "stdout",
     "output_type": "stream",
     "text": [
      "User Login Report:\n",
      "\n",
      "Device: Device2, Users logged in: UserC, UserB\n",
      "\n"
     ]
    }
   ],
   "source": [
    "def process_events(events):\n",
    "    # Create a dictionary to track current users for each device\n",
    "    current_users_by_device = {}\n",
    "\n",
    "    # Process each event in the list\n",
    "    for event in events:\n",
    "        device = event[\"device\"]  # Device name\n",
    "        user = event[\"user\"]      # User name\n",
    "        event_type = event[\"type\"]  # Event type (login or logout)\n",
    "\n",
    "        # Check if the device is in the dictionary, if not, add it\n",
    "        if device not in current_users_by_device:\n",
    "            current_users_by_device[device] = set()\n",
    "\n",
    "        # Process a login event\n",
    "        if event_type == \"login\":\n",
    "            current_users_by_device[device].add(user)  # Add the user to the device\n",
    "\n",
    "        # Process a logout event\n",
    "        elif event_type == \"logout\":\n",
    "            # Check if the user is logged into the device\n",
    "            if user in current_users_by_device[device]:\n",
    "                current_users_by_device[device].remove(user)  # Remove the user\n",
    "\n",
    "    return current_users_by_device\n",
    "\n",
    "\n",
    "def generate_report(user_data):\n",
    "    # Create a report using user data\n",
    "    report = \"\"\n",
    "    for device, users in user_data.items():\n",
    "        if users:\n",
    "            # If there are users logged into the device\n",
    "            user_list = \", \".join(users)\n",
    "            report += f\"Device: {device}, Users logged in: {user_list}\\n\"\n",
    "\n",
    "    return report\n",
    "\n",
    "\n",
    "# List of events (can be modified as needed)\n",
    "events = [\n",
    "    {\"device\": \"Device1\", \"user\": \"UserA\", \"type\": \"login\"},\n",
    "    {\"device\": \"Device2\", \"user\": \"UserB\", \"type\": \"login\"},\n",
    "    {\"device\": \"Device1\", \"user\": \"UserA\", \"type\": \"logout\"},\n",
    "    {\"device\": \"Device2\", \"user\": \"UserC\", \"type\": \"login\"},\n",
    "    {\"device\": \"Device3\", \"user\": \"UserD\", \"type\": \"logout\"},\n",
    "]\n",
    "\n",
    "# Process events and generate a report\n",
    "current_users = process_events(events)\n",
    "report = generate_report(current_users)\n",
    "\n",
    "# Print the report if there is data to display\n",
    "if report:\n",
    "    print(\"User Login Report:\\n\")\n",
    "    print(report)\n",
    "else:\n",
    "    print(\"No user login data to report.\")\n"
   ]
  }
 ],
 "metadata": {
  "kernelspec": {
   "display_name": "Python 3",
   "language": "python",
   "name": "python3"
  },
  "language_info": {
   "codemirror_mode": {
    "name": "ipython",
    "version": 3
   },
   "file_extension": ".py",
   "mimetype": "text/x-python",
   "name": "python",
   "nbconvert_exporter": "python",
   "pygments_lexer": "ipython3",
   "version": "3.6.7"
  }
 },
 "nbformat": 4,
 "nbformat_minor": 2
}
